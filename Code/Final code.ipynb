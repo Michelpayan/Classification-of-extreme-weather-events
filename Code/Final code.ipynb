{
 "cells": [
  {
   "cell_type": "markdown",
   "id": "96e689ec",
   "metadata": {},
   "source": [
    "## Importing libraries"
   ]
  },
  {
   "cell_type": "code",
   "execution_count": 1,
   "id": "a3308942",
   "metadata": {},
   "outputs": [],
   "source": [
    "import numpy as np\n",
    "import pandas as pd\n",
    "from sklearn.cluster import DBSCAN\n",
    "from sklearn.preprocessing import StandardScaler,OneHotEncoder\n",
    "from Feature_modifications import create_seasons , poly_degree2\n",
    "from sklearn.pipeline import Pipeline\n",
    "from sklearn.model_selection import GridSearchCV\n",
    "from sklearn.compose import ColumnTransformer\n",
    "from sklearn.metrics import accuracy_score , make_scorer\n",
    "from sklearn.model_selection import RepeatedStratifiedKFold, StratifiedKFold , cross_val_score\n",
    "\n",
    "#MODELS\n",
    "from xgboost import XGBClassifier\n",
    "from sklearn.ensemble import HistGradientBoostingClassifier, RandomForestClassifier\n",
    "from MultiLR_compatible import MultiLogisticReg\n",
    "\n",
    "#FOR FEATURE SELECTION\n",
    "from sklearn.feature_selection import RFECV,RFE\n",
    "from sklearn.tree import DecisionTreeClassifier\n",
    "\n",
    "#FOR IMBALANCED DATASET\n",
    "from imblearn.over_sampling import SMOTE\n",
    "from imblearn.pipeline import Pipeline as pipe_imb\n",
    "\n",
    "import joblib\n",
    "import warnings\n",
    "warnings.filterwarnings('ignore')"
   ]
  },
  {
   "cell_type": "markdown",
   "id": "be816347",
   "metadata": {},
   "source": [
    "### Importing the training and test sets. \n",
    "\n",
    "After importing each data set, a new column called season in created using the Feature_modifications python file"
   ]
  },
  {
   "cell_type": "code",
   "execution_count": null,
   "id": "6e786c5f",
   "metadata": {},
   "outputs": [],
   "source": [
    "train=pd.read_csv(r\"train.csv\")\n",
    "test=pd.read_csv(r\"test.csv\")\n",
    "\n",
    "train.loc[:,\"season\"]=create_seasons(train)\n",
    "test.loc[:,\"season\"]=create_seasons(test)\n"
   ]
  },
  {
   "cell_type": "markdown",
   "id": "0ee47843",
   "metadata": {},
   "source": [
    "Another new column is created, called \"Locations\" in both the training and test set"
   ]
  },
  {
   "cell_type": "code",
   "execution_count": 2,
   "id": "ef17231c",
   "metadata": {},
   "outputs": [],
   "source": [
    "epsilon = 1.5\n",
    "db = DBSCAN(eps=epsilon, min_samples=1).fit(np.array(train[['lat','lon']]))\n",
    "cluster_labels = db.labels_\n",
    "num_clusters = len(set(cluster_labels))\n",
    "\n",
    "#We will use this labels for our test set\n",
    "train.loc[:,\"Locations\"] = cluster_labels\n",
    "loc_dic = {}\n",
    "for i in np.unique(cluster_labels):\n",
    "    loc_dic[i]=np.unique(train.loc[train[\"Locations\"]==i,[\"lat\",\"lon\"]],axis=0)    \n",
    "#Apply to the TEST SET\n",
    "for i in np.unique(cluster_labels):\n",
    "    for j in loc_dic[i]:\n",
    "        test.loc[(test[\"lat\"]==j[0]) & (test[\"lon\"]==j[1]),'Locations'] = i"
   ]
  },
  {
   "cell_type": "code",
   "execution_count": 3,
   "id": "33b33e31",
   "metadata": {},
   "outputs": [],
   "source": [
    "kfold = RepeatedStratifiedKFold(n_splits=10,n_repeats=10)"
   ]
  },
  {
   "cell_type": "markdown",
   "id": "ae49ba45",
   "metadata": {},
   "source": [
    "## Experiments: modifications on the original data set\n",
    "\n",
    "In this section we will apply each of the 4 model to the 6 different data sets that are described in the report"
   ]
  },
  {
   "cell_type": "markdown",
   "id": "6f18d1eb",
   "metadata": {},
   "source": [
    "### Dataset 1"
   ]
  },
  {
   "cell_type": "code",
   "execution_count": 4,
   "id": "96642874",
   "metadata": {},
   "outputs": [],
   "source": [
    "train1 = train.drop(labels=[\"SNo\",\"lat\",\"lon\",\"time\",\"Locations\",\"months\"],axis=1)\n",
    "test1 = test.drop(labels=[\"SNo\",\"lat\",\"lon\",\"time\",\"Locations\",\"months\"],axis=1)\n",
    "\n",
    "train_features = train1.drop(labels=[\"Label\"],axis=1)\n",
    "train_label = train1[\"Label\"]\n",
    "\n",
    "numerical_ix = train_features.iloc[:,:-1].columns\n",
    "categorical_ix = [\"season\"]\n",
    "\n",
    "t = [('cat', OneHotEncoder(handle_unknown = \"ignore\"), categorical_ix), ('num', StandardScaler(), numerical_ix)]\n",
    "\n",
    "col_transform = ColumnTransformer(transformers=t)"
   ]
  },
  {
   "cell_type": "markdown",
   "id": "26db1676",
   "metadata": {},
   "source": [
    "### <font color= blue> MultiLogisticReg"
   ]
  },
  {
   "cell_type": "code",
   "execution_count": 6,
   "id": "60cf858a",
   "metadata": {},
   "outputs": [
    {
     "data": {
      "text/plain": [
       "0.7753529937444145"
      ]
     },
     "execution_count": 6,
     "metadata": {},
     "output_type": "execute_result"
    }
   ],
   "source": [
    "pipeline = Pipeline(steps=[('prep', col_transform),('estimator', MultiLogisticReg())])\n",
    "\n",
    "mean=np.mean(cross_val_score(pipeline, train_features, train_label, cv=kfold))\n",
    "\n",
    "mean"
   ]
  },
  {
   "cell_type": "code",
   "execution_count": 9,
   "id": "48e626b1",
   "metadata": {},
   "outputs": [
    {
     "data": {
      "text/plain": [
       "['MODELS/plain_LG1.sav']"
      ]
     },
     "execution_count": 9,
     "metadata": {},
     "output_type": "execute_result"
    }
   ],
   "source": [
    "pipeline.fit(train_features, train_label)\n",
    "pred = pipeline.predict(test1)\n",
    "sub=pd.read_csv(r\"test.csv\")\n",
    "sub = sub.copy()[[\"SNo\"]]\n",
    "sub[\"Label\"]=pred\n",
    "sub.to_csv(\"PREDICTIONS/Submission_LG1.csv\",index=False)\n",
    "\n",
    "filename = \"MODELS/plain_LG1.sav\"\n",
    "joblib.dump(pipeline, filename)"
   ]
  },
  {
   "cell_type": "markdown",
   "id": "3d6480de",
   "metadata": {},
   "source": [
    "### <font color= blue> RandomForestClassifier"
   ]
  },
  {
   "cell_type": "code",
   "execution_count": 11,
   "id": "0e820a68",
   "metadata": {},
   "outputs": [
    {
     "data": {
      "text/plain": [
       "0.8623324396782841"
      ]
     },
     "execution_count": 11,
     "metadata": {},
     "output_type": "execute_result"
    }
   ],
   "source": [
    "pipeline = Pipeline(steps=[('prep', col_transform),('estimator', RandomForestClassifier())])\n",
    "\n",
    "mean=np.mean(cross_val_score(pipeline, train_features, train_label, cv=kfold)\n",
    "            )\n",
    "mean"
   ]
  },
  {
   "cell_type": "code",
   "execution_count": 12,
   "id": "95aa66c1",
   "metadata": {},
   "outputs": [
    {
     "data": {
      "text/plain": [
       "['MODELS/plain_RF1.sav']"
      ]
     },
     "execution_count": 12,
     "metadata": {},
     "output_type": "execute_result"
    }
   ],
   "source": [
    "pipeline.fit(train_features, train_label)\n",
    "pred = pipeline.predict(test1)\n",
    "sub=pd.read_csv(r\"test.csv\")\n",
    "sub = sub.copy()[[\"SNo\"]]\n",
    "sub[\"Label\"]=pred\n",
    "sub.to_csv(\"PREDICTIONS/Submission_RF1.csv\",index=False)\n",
    "\n",
    "filename = \"MODELS/plain_RF1.sav\"\n",
    "joblib.dump(pipeline, filename)"
   ]
  },
  {
   "cell_type": "markdown",
   "id": "8389f877",
   "metadata": {},
   "source": [
    "### <font color= blue> XGBClassifier"
   ]
  },
  {
   "cell_type": "code",
   "execution_count": 13,
   "id": "836ab0f2",
   "metadata": {},
   "outputs": [
    {
     "data": {
      "text/plain": [
       "0.8798815907059874"
      ]
     },
     "execution_count": 13,
     "metadata": {},
     "output_type": "execute_result"
    }
   ],
   "source": [
    "pipeline = Pipeline(steps=[('prep', col_transform),('estimator', XGBClassifier())])\n",
    "mean=np.mean(cross_val_score(pipeline, train_features, train_label, cv=kfold))\n",
    "\n",
    "mean"
   ]
  },
  {
   "cell_type": "code",
   "execution_count": 14,
   "id": "34dad8d5",
   "metadata": {},
   "outputs": [
    {
     "data": {
      "text/plain": [
       "['MODELS/plain_XG1.sav']"
      ]
     },
     "execution_count": 14,
     "metadata": {},
     "output_type": "execute_result"
    }
   ],
   "source": [
    "pipeline.fit(train_features, train_label)\n",
    "pred = pipeline.predict(test1)\n",
    "sub=pd.read_csv(r\"test.csv\")\n",
    "sub = sub.copy()[[\"SNo\"]]\n",
    "sub[\"Label\"]=pred\n",
    "sub.to_csv(\"PREDICTIONS/Submission_XG1.csv\",index=False)\n",
    "\n",
    "filename = \"MODELS/plain_XG1.sav\"\n",
    "joblib.dump(pipeline, filename)"
   ]
  },
  {
   "cell_type": "markdown",
   "id": "b09620be",
   "metadata": {},
   "source": [
    "### <font color= blue> HistGradientBoostingClassifier"
   ]
  },
  {
   "cell_type": "code",
   "execution_count": 15,
   "id": "b63683e1",
   "metadata": {},
   "outputs": [
    {
     "data": {
      "text/plain": [
       "0.8856300268096514"
      ]
     },
     "execution_count": 15,
     "metadata": {},
     "output_type": "execute_result"
    }
   ],
   "source": [
    "pipeline = Pipeline(steps=[('prep', col_transform),('estimator', HistGradientBoostingClassifier())])\n",
    "\n",
    "mean=np.mean(cross_val_score(pipeline, train_features, train_label, cv=kfold))\n",
    "\n",
    "mean"
   ]
  },
  {
   "cell_type": "code",
   "execution_count": 16,
   "id": "d23c538f",
   "metadata": {},
   "outputs": [
    {
     "data": {
      "text/plain": [
       "['MODELS/plain_HistGB1.sav']"
      ]
     },
     "execution_count": 16,
     "metadata": {},
     "output_type": "execute_result"
    }
   ],
   "source": [
    "pipeline.fit(train_features, train_label)\n",
    "pred = pipeline.predict(test1)\n",
    "sub=pd.read_csv(r\"test.csv\")\n",
    "sub = sub.copy()[[\"SNo\"]]\n",
    "sub[\"Label\"]=pred\n",
    "sub.to_csv(\"PREDICTIONS/Submission_HISTGB1.csv\",index=False)\n",
    "\n",
    "filename = \"MODELS/plain_HistGB1.sav\"\n",
    "joblib.dump(pipeline, filename)"
   ]
  },
  {
   "cell_type": "markdown",
   "id": "e3a8c8ad",
   "metadata": {},
   "source": [
    "### Dataset 2"
   ]
  },
  {
   "cell_type": "code",
   "execution_count": 12,
   "id": "536028f3",
   "metadata": {},
   "outputs": [],
   "source": [
    "train2 = train.drop(labels=[\"SNo\",\"time\",\"Locations\",\"months\"],axis=1)\n",
    "test2 = test.drop(labels=[\"SNo\",\"time\",\"Locations\",\"months\"],axis=1)\n",
    "\n",
    "train_features = train2.drop(labels=[\"Label\"],axis=1)\n",
    "train_label = train2[\"Label\"]\n",
    "\n",
    "numerical_ix = train_features.iloc[:,:-1].columns\n",
    "categorical_ix = [\"season\"]\n",
    "\n",
    "t = [('cat', OneHotEncoder(handle_unknown = \"ignore\"), categorical_ix), ('num', StandardScaler(), numerical_ix)]\n",
    "\n",
    "col_transform = ColumnTransformer(transformers=t)"
   ]
  },
  {
   "cell_type": "markdown",
   "id": "0efa65b4",
   "metadata": {},
   "source": [
    "### <font color= blue> MultiLogisticReg"
   ]
  },
  {
   "cell_type": "code",
   "execution_count": 13,
   "id": "b50540b5",
   "metadata": {},
   "outputs": [
    {
     "data": {
      "text/plain": [
       "0.7796805183199286"
      ]
     },
     "execution_count": 13,
     "metadata": {},
     "output_type": "execute_result"
    }
   ],
   "source": [
    "pipeline = Pipeline(steps=[('prep', col_transform),('estimator', MultiLogisticReg())])\n",
    "\n",
    "mean=np.mean(cross_val_score(pipeline, train_features, train_label, cv=kfold))\n",
    "\n",
    "mean"
   ]
  },
  {
   "cell_type": "code",
   "execution_count": 14,
   "id": "be8f86f8",
   "metadata": {},
   "outputs": [
    {
     "data": {
      "text/plain": [
       "['MODELS/plain_LG2.sav']"
      ]
     },
     "execution_count": 14,
     "metadata": {},
     "output_type": "execute_result"
    }
   ],
   "source": [
    "pipeline.fit(train_features, train_label)\n",
    "pred = pipeline.predict(test2)\n",
    "sub=pd.read_csv(r\"test.csv\")\n",
    "sub = sub.copy()[[\"SNo\"]]\n",
    "sub[\"Label\"]=pred\n",
    "sub.to_csv(\"PREDICTIONS/Submission_LG2.csv\",index=False)\n",
    "\n",
    "filename = \"MODELS/plain_LG2.sav\"\n",
    "joblib.dump(pipeline, filename)"
   ]
  },
  {
   "cell_type": "markdown",
   "id": "aa0b3e91",
   "metadata": {},
   "source": [
    "### <font color= blue> RandomForestClassifier"
   ]
  },
  {
   "cell_type": "code",
   "execution_count": 20,
   "id": "1cbf71bf",
   "metadata": {},
   "outputs": [
    {
     "data": {
      "text/plain": [
       "0.8623123324396783"
      ]
     },
     "execution_count": 20,
     "metadata": {},
     "output_type": "execute_result"
    }
   ],
   "source": [
    "pipeline = Pipeline(steps=[('prep', col_transform),('estimator', RandomForestClassifier())])\n",
    "\n",
    "mean=np.mean(cross_val_score(pipeline, train_features, train_label, cv=kfold))\n",
    "\n",
    "mean"
   ]
  },
  {
   "cell_type": "code",
   "execution_count": 21,
   "id": "6407d199",
   "metadata": {},
   "outputs": [
    {
     "data": {
      "text/plain": [
       "['MODELS/plain_RF2.sav']"
      ]
     },
     "execution_count": 21,
     "metadata": {},
     "output_type": "execute_result"
    }
   ],
   "source": [
    "pipeline.fit(train_features, train_label)\n",
    "pred = pipeline.predict(test2)\n",
    "sub=pd.read_csv(r\"test.csv\")\n",
    "sub = sub.copy()[[\"SNo\"]]\n",
    "sub[\"Label\"]=pred\n",
    "sub.to_csv(\"PREDICTIONS/Submission_RF2.csv\",index=False)\n",
    "\n",
    "filename = \"MODELS/plain_RF2.sav\"\n",
    "joblib.dump(pipeline, filename)"
   ]
  },
  {
   "cell_type": "markdown",
   "id": "ee217b3e",
   "metadata": {},
   "source": [
    "### <font color= blue> XGBClassifier"
   ]
  },
  {
   "cell_type": "code",
   "execution_count": 22,
   "id": "4021bc84",
   "metadata": {},
   "outputs": [
    {
     "data": {
      "text/plain": [
       "0.8797140303842719"
      ]
     },
     "execution_count": 22,
     "metadata": {},
     "output_type": "execute_result"
    }
   ],
   "source": [
    "pipeline = Pipeline(steps=[('prep', col_transform),('estimator', XGBClassifier())])\n",
    "mean=np.mean(cross_val_score(pipeline, train_features, train_label, cv=kfold))\n",
    "\n",
    "mean"
   ]
  },
  {
   "cell_type": "code",
   "execution_count": 23,
   "id": "0d7f907d",
   "metadata": {},
   "outputs": [
    {
     "data": {
      "text/plain": [
       "['MODELS/plain_XG2.sav']"
      ]
     },
     "execution_count": 23,
     "metadata": {},
     "output_type": "execute_result"
    }
   ],
   "source": [
    "pipeline.fit(train_features, train_label)\n",
    "pred = pipeline.predict(test2)\n",
    "sub=pd.read_csv(r\"test.csv\")\n",
    "sub = sub.copy()[[\"SNo\"]]\n",
    "sub[\"Label\"]=pred\n",
    "sub.to_csv(\"PREDICTIONS/Submission_XG2.csv\",index=False)\n",
    "\n",
    "filename = \"MODELS/plain_XG2.sav\"\n",
    "joblib.dump(pipeline, filename)"
   ]
  },
  {
   "cell_type": "markdown",
   "id": "8e7c367a",
   "metadata": {},
   "source": [
    "### <font color= blue> HistGradientBoostingClassifier"
   ]
  },
  {
   "cell_type": "code",
   "execution_count": 24,
   "id": "e2f9e4d0",
   "metadata": {},
   "outputs": [
    {
     "data": {
      "text/plain": [
       "0.8863270777479891"
      ]
     },
     "execution_count": 24,
     "metadata": {},
     "output_type": "execute_result"
    }
   ],
   "source": [
    "pipeline = Pipeline(steps=[('prep', col_transform),('estimator', HistGradientBoostingClassifier())])\n",
    "\n",
    "mean=np.mean(cross_val_score(pipeline, train_features, train_label, cv=kfold))\n",
    "\n",
    "mean"
   ]
  },
  {
   "cell_type": "code",
   "execution_count": 25,
   "id": "c6232bdf",
   "metadata": {},
   "outputs": [
    {
     "data": {
      "text/plain": [
       "['MODELS/plain_HistGB2.sav']"
      ]
     },
     "execution_count": 25,
     "metadata": {},
     "output_type": "execute_result"
    }
   ],
   "source": [
    "pipeline.fit(train_features, train_label)\n",
    "pred = pipeline.predict(test2)\n",
    "sub=pd.read_csv(r\"test.csv\")\n",
    "sub = sub.copy()[[\"SNo\"]]\n",
    "sub[\"Label\"]=pred\n",
    "sub.to_csv(\"PREDICTIONS/Submission_HISTGB2.csv\",index=False)\n",
    "\n",
    "filename = \"MODELS/plain_HistGB2.sav\"\n",
    "joblib.dump(pipeline, filename)"
   ]
  },
  {
   "cell_type": "markdown",
   "id": "95c544f5",
   "metadata": {},
   "source": [
    "### Dataset 3"
   ]
  },
  {
   "cell_type": "code",
   "execution_count": 15,
   "id": "e46024ef",
   "metadata": {},
   "outputs": [],
   "source": [
    "train3 = train.copy().drop(labels=[\"SNo\",\"time\",\"months\"],axis=1)\n",
    "test3 = test.copy().drop(labels=[\"SNo\",\"time\",\"months\"],axis=1)\n",
    "\n",
    "train_features = train3.drop(labels=[\"Label\"],axis=1)\n",
    "train_label = train3[\"Label\"]\n",
    "\n",
    "numerical_ix = train_features.drop(labels=[\"Locations\",\"season\"],axis=1).columns \n",
    "categorical_ix = [\"Locations\",\"season\"] \n",
    "\n",
    "t = [('cat', OneHotEncoder(handle_unknown = \"ignore\"), categorical_ix), ('num', StandardScaler(), numerical_ix)]\n",
    "col_transform = ColumnTransformer(transformers=t)"
   ]
  },
  {
   "cell_type": "markdown",
   "id": "3c3fa7da",
   "metadata": {},
   "source": [
    "### <font color= blue> MultiLogisticReg"
   ]
  },
  {
   "cell_type": "code",
   "execution_count": 16,
   "id": "a38e1482",
   "metadata": {},
   "outputs": [
    {
     "data": {
      "text/plain": [
       "0.7759763181411976"
      ]
     },
     "execution_count": 16,
     "metadata": {},
     "output_type": "execute_result"
    }
   ],
   "source": [
    "pipeline = Pipeline(steps=[('prep', col_transform),('estimator', MultiLogisticReg())])\n",
    "\n",
    "mean = np.mean(cross_val_score(pipeline, train_features, train_label, cv=kfold))\n",
    "\n",
    "mean"
   ]
  },
  {
   "cell_type": "code",
   "execution_count": 17,
   "id": "a7fcf4c0",
   "metadata": {},
   "outputs": [
    {
     "data": {
      "text/plain": [
       "['MODELS/plain_LG3.sav']"
      ]
     },
     "execution_count": 17,
     "metadata": {},
     "output_type": "execute_result"
    }
   ],
   "source": [
    "pipeline.fit(train_features, train_label)\n",
    "pred = pipeline.predict(test3)\n",
    "sub=pd.read_csv(r\"test.csv\")\n",
    "sub = sub.copy()[[\"SNo\"]]\n",
    "sub[\"Label\"]=pred\n",
    "sub.to_csv(\"PREDICTIONS/Submission_LG3.csv\",index=False)\n",
    "\n",
    "filename = \"MODELS/plain_LG3.sav\"\n",
    "joblib.dump(pipeline, filename)"
   ]
  },
  {
   "cell_type": "markdown",
   "id": "df5d3836",
   "metadata": {},
   "source": [
    "### <font color= blue> RandomForestClassifier"
   ]
  },
  {
   "cell_type": "code",
   "execution_count": 29,
   "id": "a1a7165b",
   "metadata": {},
   "outputs": [
    {
     "data": {
      "text/plain": [
       "0.8618655049151026"
      ]
     },
     "execution_count": 29,
     "metadata": {},
     "output_type": "execute_result"
    }
   ],
   "source": [
    "pipeline = Pipeline(steps=[('prep', col_transform),('estimator', RandomForestClassifier())])\n",
    "\n",
    "mean=np.mean(cross_val_score(pipeline, train_features, train_label, cv=kfold))\n",
    "\n",
    "mean"
   ]
  },
  {
   "cell_type": "code",
   "execution_count": 30,
   "id": "b3128903",
   "metadata": {},
   "outputs": [
    {
     "data": {
      "text/plain": [
       "['MODELS/plain_RF3.sav']"
      ]
     },
     "execution_count": 30,
     "metadata": {},
     "output_type": "execute_result"
    }
   ],
   "source": [
    "pipeline.fit(train_features, train_label)\n",
    "pred = pipeline.predict(test3)\n",
    "sub=pd.read_csv(r\"test.csv\")\n",
    "sub = sub.copy()[[\"SNo\"]]\n",
    "sub[\"Label\"]=pred\n",
    "sub.to_csv(\"PREDICTIONS/Submission_RF3.csv\",index=False)\n",
    "\n",
    "filename = \"MODELS/plain_RF3.sav\"\n",
    "joblib.dump(pipeline, filename)"
   ]
  },
  {
   "cell_type": "markdown",
   "id": "b7dbfa97",
   "metadata": {},
   "source": [
    "### <font color= blue> XGBClassifier"
   ]
  },
  {
   "cell_type": "code",
   "execution_count": 31,
   "id": "3816d8ca",
   "metadata": {},
   "outputs": [
    {
     "data": {
      "text/plain": [
       "0.8799374441465595"
      ]
     },
     "execution_count": 31,
     "metadata": {},
     "output_type": "execute_result"
    }
   ],
   "source": [
    "pipeline = Pipeline(steps=[('prep', col_transform),('estimator', XGBClassifier())])\n",
    "mean=np.mean(cross_val_score(pipeline, train_features, train_label, cv=kfold))\n",
    "\n",
    "mean"
   ]
  },
  {
   "cell_type": "code",
   "execution_count": 32,
   "id": "97e96aea",
   "metadata": {},
   "outputs": [
    {
     "data": {
      "text/plain": [
       "['MODELS/plain_XG3.sav']"
      ]
     },
     "execution_count": 32,
     "metadata": {},
     "output_type": "execute_result"
    }
   ],
   "source": [
    "pipeline.fit(train_features, train_label)\n",
    "pred = pipeline.predict(test3)\n",
    "sub=pd.read_csv(r\"test.csv\")\n",
    "sub = sub.copy()[[\"SNo\"]]\n",
    "sub[\"Label\"]=pred\n",
    "sub.to_csv(\"PREDICTIONS/Submission_XG3.csv\",index=False)\n",
    "\n",
    "filename = \"MODELS/plain_XG3.sav\"\n",
    "joblib.dump(pipeline, filename)"
   ]
  },
  {
   "cell_type": "markdown",
   "id": "d3f4335e",
   "metadata": {},
   "source": [
    "### <font color= blue> HistGradientBoostingClassifier"
   ]
  },
  {
   "cell_type": "code",
   "execution_count": 33,
   "id": "99d1c534",
   "metadata": {},
   "outputs": [
    {
     "data": {
      "text/plain": [
       "0.886168453976765"
      ]
     },
     "execution_count": 33,
     "metadata": {},
     "output_type": "execute_result"
    }
   ],
   "source": [
    "pipeline = Pipeline(steps=[('prep', col_transform),('estimator', HistGradientBoostingClassifier())])\n",
    "\n",
    "mean=np.mean(cross_val_score(pipeline, train_features, train_label, cv=kfold))\n",
    "\n",
    "mean"
   ]
  },
  {
   "cell_type": "code",
   "execution_count": 34,
   "id": "b3e944ce",
   "metadata": {},
   "outputs": [
    {
     "data": {
      "text/plain": [
       "['MODELS/plain_HistGB3.sav']"
      ]
     },
     "execution_count": 34,
     "metadata": {},
     "output_type": "execute_result"
    }
   ],
   "source": [
    "pipeline.fit(train_features, train_label)\n",
    "pred = pipeline.predict(test3)\n",
    "sub=pd.read_csv(r\"test.csv\")\n",
    "sub = sub.copy()[[\"SNo\"]]\n",
    "sub[\"Label\"]=pred\n",
    "sub.to_csv(\"PREDICTIONS/Submission_HISTGB3.csv\",index=False)\n",
    "\n",
    "filename = \"MODELS/plain_HistGB3.sav\"\n",
    "joblib.dump(pipeline, filename)"
   ]
  },
  {
   "cell_type": "markdown",
   "id": "e133db7a",
   "metadata": {},
   "source": [
    "### Dataset 4"
   ]
  },
  {
   "cell_type": "code",
   "execution_count": 18,
   "id": "ef88acfc",
   "metadata": {},
   "outputs": [],
   "source": [
    "selector = RFECV(DecisionTreeClassifier(random_state=0), step=1, cv=10, scoring=\"accuracy\")\n",
    "\n",
    "train_encoded = pd.get_dummies(train_features[categorical_ix], columns=[\"Locations\",\"season\"] )\n",
    "test_encoded = pd.get_dummies(test3[categorical_ix], columns=[\"Locations\",\"season\"] )\n",
    "\n",
    "st = StandardScaler()\n",
    "train_features[numerical_ix] = st.fit_transform(train_features[numerical_ix])\n",
    "test3[numerical_ix] = st.transform(test3[numerical_ix])\n",
    "\n",
    "train_features_transf=train_features[numerical_ix].merge(train_encoded , right_index=True , left_index=True)\n",
    "test_features_transf=test3[numerical_ix].merge(test_encoded , right_index=True , left_index=True)"
   ]
  },
  {
   "cell_type": "code",
   "execution_count": 19,
   "id": "394f9dd8",
   "metadata": {},
   "outputs": [],
   "source": [
    "selected_features = selector.fit(train_features_transf, train_label)"
   ]
  },
  {
   "cell_type": "code",
   "execution_count": 20,
   "id": "853b6fd4",
   "metadata": {},
   "outputs": [
    {
     "data": {
      "text/plain": [
       "array([ 1,  8,  1,  1,  1,  1,  1,  4,  1,  1,  1,  1,  5,  1,  1,  2,  1,\n",
       "        3, 10, 15, 17, 14,  9, 13, 16, 12, 11,  7,  6])"
      ]
     },
     "execution_count": 20,
     "metadata": {},
     "output_type": "execute_result"
    }
   ],
   "source": [
    "selected_features.ranking_"
   ]
  },
  {
   "cell_type": "code",
   "execution_count": 21,
   "id": "27f091e3",
   "metadata": {},
   "outputs": [
    {
     "data": {
      "text/plain": [
       "13"
      ]
     },
     "execution_count": 21,
     "metadata": {},
     "output_type": "execute_result"
    }
   ],
   "source": [
    "selected_features.n_features_"
   ]
  },
  {
   "cell_type": "code",
   "execution_count": 22,
   "id": "1bb261d8",
   "metadata": {},
   "outputs": [],
   "source": [
    "sel_columns=selected_features.get_feature_names_out() #name of selected columns"
   ]
  },
  {
   "cell_type": "code",
   "execution_count": 23,
   "id": "d174743d",
   "metadata": {},
   "outputs": [
    {
     "data": {
      "text/plain": [
       "array(['lat', 'TMQ', 'U850', 'V850', 'UBOT', 'VBOT', 'PS', 'PSL', 'T200',\n",
       "       'T500', 'TS', 'TREFHT', 'Z200'], dtype=object)"
      ]
     },
     "execution_count": 23,
     "metadata": {},
     "output_type": "execute_result"
    }
   ],
   "source": [
    "sel_columns"
   ]
  },
  {
   "cell_type": "markdown",
   "id": "06c59ce3",
   "metadata": {},
   "source": [
    "### <font color= blue> MultiLogisticReg"
   ]
  },
  {
   "cell_type": "code",
   "execution_count": 24,
   "id": "e5e812ec",
   "metadata": {},
   "outputs": [
    {
     "data": {
      "text/plain": [
       "0.783505361930295"
      ]
     },
     "execution_count": 24,
     "metadata": {},
     "output_type": "execute_result"
    }
   ],
   "source": [
    "mean = np.mean(cross_val_score(MultiLogisticReg(),train_features_transf[sel_columns], train_label, cv=kfold))\n",
    "mean"
   ]
  },
  {
   "cell_type": "code",
   "execution_count": 25,
   "id": "306b4b63",
   "metadata": {},
   "outputs": [
    {
     "data": {
      "text/plain": [
       "['MODELS/plain_LG4.sav']"
      ]
     },
     "execution_count": 25,
     "metadata": {},
     "output_type": "execute_result"
    }
   ],
   "source": [
    "model=MultiLogisticReg()\n",
    "model.fit(train_features_transf[sel_columns], train_label)\n",
    "pred = model.predict(test_features_transf[sel_columns])\n",
    "sub=pd.read_csv(r\"test.csv\")\n",
    "sub = sub.copy()[[\"SNo\"]]\n",
    "sub[\"Label\"]=pred\n",
    "sub.to_csv(\"PREDICTIONS/Submission_LG4.csv\",index=False)\n",
    "filename = \"MODELS/plain_LG4.sav\"\n",
    "joblib.dump(model, filename)"
   ]
  },
  {
   "cell_type": "markdown",
   "id": "0c02ef6e",
   "metadata": {},
   "source": [
    "### <font color= blue> RandomForestClassifier"
   ]
  },
  {
   "cell_type": "code",
   "execution_count": 43,
   "id": "82fd3714",
   "metadata": {},
   "outputs": [
    {
     "data": {
      "text/plain": [
       "0.8618342269883825"
      ]
     },
     "execution_count": 43,
     "metadata": {},
     "output_type": "execute_result"
    }
   ],
   "source": [
    "mean=np.mean(cross_val_score(RandomForestClassifier(), train_features_transf[sel_columns], train_label, cv=kfold))\n",
    "mean"
   ]
  },
  {
   "cell_type": "code",
   "execution_count": 44,
   "id": "e784b264",
   "metadata": {},
   "outputs": [
    {
     "data": {
      "text/plain": [
       "['MODELS/plain_RF4.sav']"
      ]
     },
     "execution_count": 44,
     "metadata": {},
     "output_type": "execute_result"
    }
   ],
   "source": [
    "model=RandomForestClassifier()\n",
    "model.fit(train_features_transf[sel_columns], train_label)\n",
    "pred = model.predict(test_features_transf[sel_columns])\n",
    "sub=pd.read_csv(r\"test.csv\")\n",
    "sub = sub.copy()[[\"SNo\"]]\n",
    "sub[\"Label\"]=pred\n",
    "sub.to_csv(\"PREDICTIONS/Submission_RF4.csv\",index=False)\n",
    "\n",
    "filename = \"MODELS/plain_RF4.sav\"\n",
    "joblib.dump(model, filename)"
   ]
  },
  {
   "cell_type": "markdown",
   "id": "a9fba1c3",
   "metadata": {},
   "source": [
    "### <font color= blue> XGBClassifier"
   ]
  },
  {
   "cell_type": "code",
   "execution_count": 45,
   "id": "59768f80",
   "metadata": {},
   "outputs": [
    {
     "data": {
      "text/plain": [
       "0.8809428060768542"
      ]
     },
     "execution_count": 45,
     "metadata": {},
     "output_type": "execute_result"
    }
   ],
   "source": [
    "mean=np.mean(cross_val_score(XGBClassifier(), train_features_transf[sel_columns], train_label, cv=kfold))\n",
    "mean"
   ]
  },
  {
   "cell_type": "code",
   "execution_count": 46,
   "id": "f1893190",
   "metadata": {},
   "outputs": [
    {
     "data": {
      "text/plain": [
       "['MODELS/plain_XG4.sav']"
      ]
     },
     "execution_count": 46,
     "metadata": {},
     "output_type": "execute_result"
    }
   ],
   "source": [
    "\n",
    "model=XGBClassifier()\n",
    "model.fit(train_features_transf[sel_columns], train_label)\n",
    "\n",
    "pred = model.predict(test_features_transf[sel_columns])\n",
    "sub=pd.read_csv(r\"test.csv\")\n",
    "sub = sub.copy()[[\"SNo\"]]\n",
    "sub[\"Label\"]=pred\n",
    "sub.to_csv(\"PREDICTIONS/Submission_XG4.csv\",index=False)\n",
    "filename = \"MODELS/plain_XG4.sav\"\n",
    "joblib.dump(model, filename)"
   ]
  },
  {
   "cell_type": "markdown",
   "id": "52021934",
   "metadata": {},
   "source": [
    "### <font color= blue> HistGradientBoostingClassifier"
   ]
  },
  {
   "cell_type": "code",
   "execution_count": 47,
   "id": "ffb3f947",
   "metadata": {},
   "outputs": [
    {
     "data": {
      "text/plain": [
       "0.8867739052725647"
      ]
     },
     "execution_count": 47,
     "metadata": {},
     "output_type": "execute_result"
    }
   ],
   "source": [
    "mean=np.mean(cross_val_score(HistGradientBoostingClassifier(), train_features_transf[sel_columns], train_label, cv=kfold))\n",
    "mean"
   ]
  },
  {
   "cell_type": "code",
   "execution_count": 48,
   "id": "e4f93d04",
   "metadata": {},
   "outputs": [
    {
     "data": {
      "text/plain": [
       "['MODELS/plain_HistGB4.sav']"
      ]
     },
     "execution_count": 48,
     "metadata": {},
     "output_type": "execute_result"
    }
   ],
   "source": [
    "model=HistGradientBoostingClassifier()\n",
    "model.fit(train_features_transf[sel_columns], train_label)\n",
    "\n",
    "pred = model.predict(test_features_transf[sel_columns])\n",
    "sub=pd.read_csv(r\"test.csv\")\n",
    "sub = sub.copy()[[\"SNo\"]]\n",
    "sub[\"Label\"]=pred\n",
    "sub.to_csv(\"PREDICTIONS/Submission_HISTGB4.csv\",index=False)\n",
    "filename = \"MODELS/plain_HistGB4.sav\"\n",
    "joblib.dump(model, filename)"
   ]
  },
  {
   "cell_type": "markdown",
   "id": "8f9c2947",
   "metadata": {},
   "source": [
    "### Dataset 5"
   ]
  },
  {
   "cell_type": "code",
   "execution_count": 26,
   "id": "16c2c6bf",
   "metadata": {},
   "outputs": [],
   "source": [
    "train_features_poly = poly_degree2(train_features[sel_columns],sel_columns)\n",
    "test_features_poly = poly_degree2(test3[sel_columns],sel_columns)"
   ]
  },
  {
   "cell_type": "markdown",
   "id": "8ef02414",
   "metadata": {},
   "source": [
    "### <font color= blue> MultiLogisticReg"
   ]
  },
  {
   "cell_type": "code",
   "execution_count": 27,
   "id": "f18f79aa",
   "metadata": {},
   "outputs": [
    {
     "data": {
      "text/plain": [
       "0.7372319034852548"
      ]
     },
     "execution_count": 27,
     "metadata": {},
     "output_type": "execute_result"
    }
   ],
   "source": [
    "pipeline = Pipeline(steps=[('prep', StandardScaler()),('estimator', MultiLogisticReg())])\n",
    "\n",
    "mean = np.mean(cross_val_score(pipeline, train_features_poly, train_label, cv=kfold))\n",
    "\n",
    "mean"
   ]
  },
  {
   "cell_type": "code",
   "execution_count": 28,
   "id": "64a04c31",
   "metadata": {},
   "outputs": [
    {
     "data": {
      "text/plain": [
       "['MODELS/plain_LG5.sav']"
      ]
     },
     "execution_count": 28,
     "metadata": {},
     "output_type": "execute_result"
    }
   ],
   "source": [
    "pipeline.fit(train_features_poly, train_label)\n",
    "pred = pipeline.predict(test_features_poly)\n",
    "sub=pd.read_csv(r\"test.csv\")\n",
    "sub = sub.copy()[[\"SNo\"]]\n",
    "sub[\"Label\"]=pred\n",
    "sub.to_csv(\"PREDICTIONS/Submission_LG5.csv\",index=False)\n",
    "filename = \"MODELS/plain_LG5.sav\"\n",
    "joblib.dump(pipeline, filename)"
   ]
  },
  {
   "cell_type": "markdown",
   "id": "80ccfd2d",
   "metadata": {},
   "source": [
    "### <font color= blue> RandomForestClassifier"
   ]
  },
  {
   "cell_type": "code",
   "execution_count": 25,
   "id": "84c63fdd",
   "metadata": {},
   "outputs": [
    {
     "data": {
      "text/plain": [
       "0.8618833780160857"
      ]
     },
     "execution_count": 25,
     "metadata": {},
     "output_type": "execute_result"
    }
   ],
   "source": [
    "pipeline = Pipeline(steps=[('prep', StandardScaler()),('estimator', RandomForestClassifier())])\n",
    "\n",
    "mean=np.mean(cross_val_score(pipeline, train_features_poly, train_label, cv=kfold))\n",
    "\n",
    "mean"
   ]
  },
  {
   "cell_type": "code",
   "execution_count": 26,
   "id": "d5d9ac54",
   "metadata": {},
   "outputs": [
    {
     "data": {
      "text/plain": [
       "['MODELS/plain_RF5.sav']"
      ]
     },
     "execution_count": 26,
     "metadata": {},
     "output_type": "execute_result"
    }
   ],
   "source": [
    "pipeline.fit(train_features_poly, train_label)\n",
    "pred = pipeline.predict(test_features_poly)\n",
    "sub=pd.read_csv(r\"test.csv\")\n",
    "sub = sub.copy()[[\"SNo\"]]\n",
    "sub[\"Label\"]=pred\n",
    "sub.to_csv(\"PREDICTIONS/Submission_RF5.csv\",index=False)\n",
    "filename = \"MODELS/plain_RF5.sav\"\n",
    "joblib.dump(pipeline, filename)"
   ]
  },
  {
   "cell_type": "markdown",
   "id": "8fc158f8",
   "metadata": {},
   "source": [
    "### <font color= blue> XGBClassifier"
   ]
  },
  {
   "cell_type": "code",
   "execution_count": 28,
   "id": "23ae76f6",
   "metadata": {},
   "outputs": [
    {
     "data": {
      "text/plain": [
       "0.8777747989276139"
      ]
     },
     "execution_count": 28,
     "metadata": {},
     "output_type": "execute_result"
    }
   ],
   "source": [
    "pipeline = Pipeline(steps=[('prep', StandardScaler()),('estimator', XGBClassifier())])\n",
    "mean=np.mean(cross_val_score(pipeline, train_features_poly, train_label, cv=kfold))\n",
    "mean"
   ]
  },
  {
   "cell_type": "code",
   "execution_count": 29,
   "id": "2d262e0e",
   "metadata": {},
   "outputs": [
    {
     "data": {
      "text/plain": [
       "['MODELS/plain_XG5.sav']"
      ]
     },
     "execution_count": 29,
     "metadata": {},
     "output_type": "execute_result"
    }
   ],
   "source": [
    "pipeline.fit(train_features_poly, train_label)\n",
    "pred = pipeline.predict(test_features_poly)\n",
    "sub=pd.read_csv(r\"test.csv\")\n",
    "sub = sub.copy()[[\"SNo\"]]\n",
    "sub[\"Label\"]=pred\n",
    "sub.to_csv(\"PREDICTIONS/Submission_XG5.csv\",index=False)\n",
    "filename = \"MODELS/plain_XG5.sav\"\n",
    "joblib.dump(pipeline, filename)"
   ]
  },
  {
   "cell_type": "markdown",
   "id": "0a4ed615",
   "metadata": {},
   "source": [
    "### <font color= blue> HistGradientBoostingClassifier"
   ]
  },
  {
   "cell_type": "code",
   "execution_count": 30,
   "id": "430ded75",
   "metadata": {},
   "outputs": [
    {
     "data": {
      "text/plain": [
       "0.8856456657730115"
      ]
     },
     "execution_count": 30,
     "metadata": {},
     "output_type": "execute_result"
    }
   ],
   "source": [
    "pipeline = Pipeline(steps=[('prep', StandardScaler()),('estimator', HistGradientBoostingClassifier())])\n",
    "mean=np.mean(cross_val_score(pipeline, train_features_poly, train_label, cv=kfold))\n",
    "\n",
    "mean"
   ]
  },
  {
   "cell_type": "code",
   "execution_count": 31,
   "id": "03af592d",
   "metadata": {},
   "outputs": [
    {
     "data": {
      "text/plain": [
       "['MODELS/plain_HistGB5.sav']"
      ]
     },
     "execution_count": 31,
     "metadata": {},
     "output_type": "execute_result"
    }
   ],
   "source": [
    "pipeline.fit(train_features_poly, train_label)\n",
    "pred = pipeline.predict(test_features_poly)\n",
    "sub=pd.read_csv(r\"test.csv\")\n",
    "sub = sub.copy()[[\"SNo\"]]\n",
    "sub[\"Label\"]=pred\n",
    "sub.to_csv(\"PREDICTIONS/Submission_HISTGB5.csv\",index=False)\n",
    "filename = \"MODELS/plain_HistGB5.sav\"\n",
    "joblib.dump(pipeline, filename)"
   ]
  },
  {
   "cell_type": "markdown",
   "id": "2bb13701",
   "metadata": {},
   "source": [
    "### Dataset 6"
   ]
  },
  {
   "cell_type": "markdown",
   "id": "c7854c5e",
   "metadata": {},
   "source": [
    "### <font color= blue> MultiLogisticReg"
   ]
  },
  {
   "cell_type": "code",
   "execution_count": 29,
   "id": "aa8ba128",
   "metadata": {},
   "outputs": [
    {
     "data": {
      "text/plain": [
       "0.5110790884718497"
      ]
     },
     "execution_count": 29,
     "metadata": {},
     "output_type": "execute_result"
    }
   ],
   "source": [
    "pipeline = pipe_imb(steps=[('prep', StandardScaler()),(\"balance\",SMOTE()),('estimator', MultiLogisticReg())])\n",
    "\n",
    "mean = np.mean(cross_val_score(pipeline, train_features_poly, train_label, cv=kfold))\n",
    "\n",
    "mean"
   ]
  },
  {
   "cell_type": "code",
   "execution_count": 30,
   "id": "574adf44",
   "metadata": {},
   "outputs": [
    {
     "data": {
      "text/plain": [
       "['MODELS/plain_LG6.sav']"
      ]
     },
     "execution_count": 30,
     "metadata": {},
     "output_type": "execute_result"
    }
   ],
   "source": [
    "pipeline.fit(train_features_poly, train_label)\n",
    "pred = pipeline.predict(test_features_poly)\n",
    "sub=pd.read_csv(r\"test.csv\")\n",
    "sub = sub.copy()[[\"SNo\"]]\n",
    "sub[\"Label\"]=pred\n",
    "sub.to_csv(\"PREDICTIONS/Submission_LG6.csv\",index=False)\n",
    "filename = \"MODELS/plain_LG6.sav\"\n",
    "joblib.dump(pipeline, filename)"
   ]
  },
  {
   "cell_type": "markdown",
   "id": "3f43ba0a",
   "metadata": {},
   "source": [
    "### <font color= blue> RandomForestClassifier"
   ]
  },
  {
   "cell_type": "code",
   "execution_count": 16,
   "id": "c0935656",
   "metadata": {},
   "outputs": [
    {
     "data": {
      "text/plain": [
       "0.8489320822162647"
      ]
     },
     "execution_count": 16,
     "metadata": {},
     "output_type": "execute_result"
    }
   ],
   "source": [
    "pipeline = pipe_imb(steps=[('prep', StandardScaler()),(\"balance\",SMOTE()),('estimator', RandomForestClassifier())])\n",
    "\n",
    "mean=np.mean(cross_val_score(pipeline, train_features_poly, train_label, cv=kfold))\n",
    "\n",
    "mean"
   ]
  },
  {
   "cell_type": "code",
   "execution_count": 17,
   "id": "493a6b43",
   "metadata": {},
   "outputs": [
    {
     "data": {
      "text/plain": [
       "['MODELS/plain_RF6.sav']"
      ]
     },
     "execution_count": 17,
     "metadata": {},
     "output_type": "execute_result"
    }
   ],
   "source": [
    "pipeline.fit(train_features_poly, train_label)\n",
    "pred = pipeline.predict(test_features_poly)\n",
    "sub=pd.read_csv(r\"test.csv\")\n",
    "sub = sub.copy()[[\"SNo\"]]\n",
    "sub[\"Label\"]=pred\n",
    "sub.to_csv(\"PREDICTIONS/Submission_RF6.csv\",index=False)\n",
    "filename = \"MODELS/plain_RF6.sav\"\n",
    "joblib.dump(pipeline, filename)"
   ]
  },
  {
   "cell_type": "markdown",
   "id": "238c4f7e",
   "metadata": {},
   "source": [
    "### <font color= blue> XGBClassifier"
   ]
  },
  {
   "cell_type": "code",
   "execution_count": 18,
   "id": "4c41816f",
   "metadata": {},
   "outputs": [
    {
     "data": {
      "text/plain": [
       "0.8685835567470954"
      ]
     },
     "execution_count": 18,
     "metadata": {},
     "output_type": "execute_result"
    }
   ],
   "source": [
    "pipeline = pipe_imb(steps=[('prep', StandardScaler()),(\"balance\",SMOTE()),('estimator', XGBClassifier())])\n",
    "mean=np.mean(cross_val_score(pipeline, train_features_poly, train_label, cv=kfold))\n",
    "mean"
   ]
  },
  {
   "cell_type": "code",
   "execution_count": 19,
   "id": "651b52f9",
   "metadata": {},
   "outputs": [
    {
     "data": {
      "text/plain": [
       "['MODELS/plain_XG6.sav']"
      ]
     },
     "execution_count": 19,
     "metadata": {},
     "output_type": "execute_result"
    }
   ],
   "source": [
    "pipeline.fit(train_features_poly, train_label)\n",
    "pred = pipeline.predict(test_features_poly)\n",
    "sub=pd.read_csv(r\"test.csv\")\n",
    "sub = sub.copy()[[\"SNo\"]]\n",
    "sub[\"Label\"]=pred\n",
    "sub.to_csv(\"PREDICTIONS/Submission_XG6.csv\",index=False)\n",
    "filename = \"MODELS/plain_XG6.sav\"\n",
    "joblib.dump(pipeline, filename)"
   ]
  },
  {
   "cell_type": "markdown",
   "id": "286e5a06",
   "metadata": {},
   "source": [
    "### <font color= blue> HistGradientBoostingClassifier"
   ]
  },
  {
   "cell_type": "code",
   "execution_count": 20,
   "id": "721b9919",
   "metadata": {},
   "outputs": [
    {
     "data": {
      "text/plain": [
       "0.8730764075067023"
      ]
     },
     "execution_count": 20,
     "metadata": {},
     "output_type": "execute_result"
    }
   ],
   "source": [
    "pipeline = pipe_imb(steps=[('prep', StandardScaler()),(\"balance\",SMOTE()),('estimator', HistGradientBoostingClassifier())])\n",
    "mean=np.mean(cross_val_score(pipeline, train_features_poly, train_label, cv=kfold))\n",
    "\n",
    "mean"
   ]
  },
  {
   "cell_type": "code",
   "execution_count": 21,
   "id": "505bfd8c",
   "metadata": {},
   "outputs": [
    {
     "data": {
      "text/plain": [
       "['MODELS/plain_HistGB6.sav']"
      ]
     },
     "execution_count": 21,
     "metadata": {},
     "output_type": "execute_result"
    }
   ],
   "source": [
    "pipeline.fit(train_features_poly, train_label)\n",
    "pred = pipeline.predict(test_features_poly)\n",
    "sub=pd.read_csv(r\"test.csv\")\n",
    "sub = sub.copy()[[\"SNo\"]]\n",
    "sub[\"Label\"]=pred\n",
    "sub.to_csv(\"PREDICTIONS/Submission_HISTGB6.csv\",index=False)\n",
    "filename = \"MODELS/plain_HistGB6.sav\"\n",
    "joblib.dump(pipeline, filename)"
   ]
  },
  {
   "cell_type": "markdown",
   "id": "647d9f2f",
   "metadata": {},
   "source": [
    "# Hyperparameter tunning for Histogram Gradiend Boosting"
   ]
  },
  {
   "cell_type": "code",
   "execution_count": 31,
   "id": "dcfc5d3e",
   "metadata": {},
   "outputs": [
    {
     "data": {
      "text/html": [
       "<style>#sk-container-id-1 {color: black;background-color: white;}#sk-container-id-1 pre{padding: 0;}#sk-container-id-1 div.sk-toggleable {background-color: white;}#sk-container-id-1 label.sk-toggleable__label {cursor: pointer;display: block;width: 100%;margin-bottom: 0;padding: 0.3em;box-sizing: border-box;text-align: center;}#sk-container-id-1 label.sk-toggleable__label-arrow:before {content: \"▸\";float: left;margin-right: 0.25em;color: #696969;}#sk-container-id-1 label.sk-toggleable__label-arrow:hover:before {color: black;}#sk-container-id-1 div.sk-estimator:hover label.sk-toggleable__label-arrow:before {color: black;}#sk-container-id-1 div.sk-toggleable__content {max-height: 0;max-width: 0;overflow: hidden;text-align: left;background-color: #f0f8ff;}#sk-container-id-1 div.sk-toggleable__content pre {margin: 0.2em;color: black;border-radius: 0.25em;background-color: #f0f8ff;}#sk-container-id-1 input.sk-toggleable__control:checked~div.sk-toggleable__content {max-height: 200px;max-width: 100%;overflow: auto;}#sk-container-id-1 input.sk-toggleable__control:checked~label.sk-toggleable__label-arrow:before {content: \"▾\";}#sk-container-id-1 div.sk-estimator input.sk-toggleable__control:checked~label.sk-toggleable__label {background-color: #d4ebff;}#sk-container-id-1 div.sk-label input.sk-toggleable__control:checked~label.sk-toggleable__label {background-color: #d4ebff;}#sk-container-id-1 input.sk-hidden--visually {border: 0;clip: rect(1px 1px 1px 1px);clip: rect(1px, 1px, 1px, 1px);height: 1px;margin: -1px;overflow: hidden;padding: 0;position: absolute;width: 1px;}#sk-container-id-1 div.sk-estimator {font-family: monospace;background-color: #f0f8ff;border: 1px dotted black;border-radius: 0.25em;box-sizing: border-box;margin-bottom: 0.5em;}#sk-container-id-1 div.sk-estimator:hover {background-color: #d4ebff;}#sk-container-id-1 div.sk-parallel-item::after {content: \"\";width: 100%;border-bottom: 1px solid gray;flex-grow: 1;}#sk-container-id-1 div.sk-label:hover label.sk-toggleable__label {background-color: #d4ebff;}#sk-container-id-1 div.sk-serial::before {content: \"\";position: absolute;border-left: 1px solid gray;box-sizing: border-box;top: 0;bottom: 0;left: 50%;z-index: 0;}#sk-container-id-1 div.sk-serial {display: flex;flex-direction: column;align-items: center;background-color: white;padding-right: 0.2em;padding-left: 0.2em;position: relative;}#sk-container-id-1 div.sk-item {position: relative;z-index: 1;}#sk-container-id-1 div.sk-parallel {display: flex;align-items: stretch;justify-content: center;background-color: white;position: relative;}#sk-container-id-1 div.sk-item::before, #sk-container-id-1 div.sk-parallel-item::before {content: \"\";position: absolute;border-left: 1px solid gray;box-sizing: border-box;top: 0;bottom: 0;left: 50%;z-index: -1;}#sk-container-id-1 div.sk-parallel-item {display: flex;flex-direction: column;z-index: 1;position: relative;background-color: white;}#sk-container-id-1 div.sk-parallel-item:first-child::after {align-self: flex-end;width: 50%;}#sk-container-id-1 div.sk-parallel-item:last-child::after {align-self: flex-start;width: 50%;}#sk-container-id-1 div.sk-parallel-item:only-child::after {width: 0;}#sk-container-id-1 div.sk-dashed-wrapped {border: 1px dashed gray;margin: 0 0.4em 0.5em 0.4em;box-sizing: border-box;padding-bottom: 0.4em;background-color: white;}#sk-container-id-1 div.sk-label label {font-family: monospace;font-weight: bold;display: inline-block;line-height: 1.2em;}#sk-container-id-1 div.sk-label-container {text-align: center;}#sk-container-id-1 div.sk-container {/* jupyter's `normalize.less` sets `[hidden] { display: none; }` but bootstrap.min.css set `[hidden] { display: none !important; }` so we also need the `!important` here to be able to override the default hidden behavior on the sphinx rendered scikit-learn.org. See: https://github.com/scikit-learn/scikit-learn/issues/21755 */display: inline-block !important;position: relative;}#sk-container-id-1 div.sk-text-repr-fallback {display: none;}</style><div id=\"sk-container-id-1\" class=\"sk-top-container\"><div class=\"sk-text-repr-fallback\"><pre>GridSearchCV(cv=RepeatedStratifiedKFold(n_repeats=3, n_splits=5, random_state=None),\n",
       "             estimator=HistGradientBoostingClassifier(),\n",
       "             param_grid={&#x27;l2_regularization&#x27;: [0, 0.001, 0.01],\n",
       "                         &#x27;learning_rate&#x27;: [0.1, 0.01, 0.5, 0.05],\n",
       "                         &#x27;max_bins&#x27;: [225, 255], &#x27;max_iter&#x27;: [100, 150, 200]},\n",
       "             scoring=make_scorer(accuracy_score))</pre><b>In a Jupyter environment, please rerun this cell to show the HTML representation or trust the notebook. <br />On GitHub, the HTML representation is unable to render, please try loading this page with nbviewer.org.</b></div><div class=\"sk-container\" hidden><div class=\"sk-item sk-dashed-wrapped\"><div class=\"sk-label-container\"><div class=\"sk-label sk-toggleable\"><input class=\"sk-toggleable__control sk-hidden--visually\" id=\"sk-estimator-id-1\" type=\"checkbox\" ><label for=\"sk-estimator-id-1\" class=\"sk-toggleable__label sk-toggleable__label-arrow\">GridSearchCV</label><div class=\"sk-toggleable__content\"><pre>GridSearchCV(cv=RepeatedStratifiedKFold(n_repeats=3, n_splits=5, random_state=None),\n",
       "             estimator=HistGradientBoostingClassifier(),\n",
       "             param_grid={&#x27;l2_regularization&#x27;: [0, 0.001, 0.01],\n",
       "                         &#x27;learning_rate&#x27;: [0.1, 0.01, 0.5, 0.05],\n",
       "                         &#x27;max_bins&#x27;: [225, 255], &#x27;max_iter&#x27;: [100, 150, 200]},\n",
       "             scoring=make_scorer(accuracy_score))</pre></div></div></div><div class=\"sk-parallel\"><div class=\"sk-parallel-item\"><div class=\"sk-item\"><div class=\"sk-label-container\"><div class=\"sk-label sk-toggleable\"><input class=\"sk-toggleable__control sk-hidden--visually\" id=\"sk-estimator-id-2\" type=\"checkbox\" ><label for=\"sk-estimator-id-2\" class=\"sk-toggleable__label sk-toggleable__label-arrow\">estimator: HistGradientBoostingClassifier</label><div class=\"sk-toggleable__content\"><pre>HistGradientBoostingClassifier()</pre></div></div></div><div class=\"sk-serial\"><div class=\"sk-item\"><div class=\"sk-estimator sk-toggleable\"><input class=\"sk-toggleable__control sk-hidden--visually\" id=\"sk-estimator-id-3\" type=\"checkbox\" ><label for=\"sk-estimator-id-3\" class=\"sk-toggleable__label sk-toggleable__label-arrow\">HistGradientBoostingClassifier</label><div class=\"sk-toggleable__content\"><pre>HistGradientBoostingClassifier()</pre></div></div></div></div></div></div></div></div></div></div>"
      ],
      "text/plain": [
       "GridSearchCV(cv=RepeatedStratifiedKFold(n_repeats=3, n_splits=5, random_state=None),\n",
       "             estimator=HistGradientBoostingClassifier(),\n",
       "             param_grid={'l2_regularization': [0, 0.001, 0.01],\n",
       "                         'learning_rate': [0.1, 0.01, 0.5, 0.05],\n",
       "                         'max_bins': [225, 255], 'max_iter': [100, 150, 200]},\n",
       "             scoring=make_scorer(accuracy_score))"
      ]
     },
     "execution_count": 31,
     "metadata": {},
     "output_type": "execute_result"
    }
   ],
   "source": [
    "#pipeline = Pipeline(steps=[('estimator', HistGradientBoostingClassifier())])\n",
    "\n",
    "param_grid = { 'learning_rate': [0.1,0.01,0.5,0.05],\n",
    "    'max_iter': [100, 150, 200],\n",
    "             \"l2_regularization\":[0,0.001,0.01],\n",
    "             \"max_bins\":[225,255]}\n",
    "\n",
    "kfold2 = RepeatedStratifiedKFold(n_splits=5,n_repeats=3)\n",
    "\n",
    "scoring = make_scorer(accuracy_score)\n",
    "\n",
    "grid_search = GridSearchCV(estimator=HistGradientBoostingClassifier() ,\n",
    "                            param_grid=param_grid , cv=kfold2 , scoring=scoring)\n",
    "\n",
    "grid_search.fit(train_features_transf[sel_columns], train_label)"
   ]
  },
  {
   "cell_type": "code",
   "execution_count": 32,
   "id": "89e36b4e",
   "metadata": {},
   "outputs": [
    {
     "data": {
      "text/plain": [
       "0.8918156091748586"
      ]
     },
     "execution_count": 32,
     "metadata": {},
     "output_type": "execute_result"
    }
   ],
   "source": [
    "grid_search.best_score_"
   ]
  },
  {
   "cell_type": "code",
   "execution_count": 52,
   "id": "bd7c710b",
   "metadata": {},
   "outputs": [
    {
     "data": {
      "text/plain": [
       "{'l2_regularization': 0,\n",
       " 'learning_rate': 0.05,\n",
       " 'max_bins': 225,\n",
       " 'max_iter': 100}"
      ]
     },
     "execution_count": 52,
     "metadata": {},
     "output_type": "execute_result"
    }
   ],
   "source": [
    "grid_search.best_params_"
   ]
  },
  {
   "cell_type": "code",
   "execution_count": null,
   "id": "5b07627e",
   "metadata": {},
   "outputs": [],
   "source": [
    "pred = grid_search.predict(test_features_transf[sel_columns])\n",
    "sub = test.copy()[[\"SNo\"]]\n",
    "sub[\"Label\"] = pred\n",
    "sub.to_csv(\"PREDICTIONS/Submission_HISTGB_hyper.csv\",index=False)\n",
    "filename = \"MODELS/hyper_HistGB.sav\"\n",
    "joblib.dump(grid_search.best_estimator_, filename)"
   ]
  },
  {
   "cell_type": "markdown",
   "id": "5ca26019",
   "metadata": {},
   "source": [
    "# Hyperparameter tunning for Logistic Regression"
   ]
  },
  {
   "cell_type": "code",
   "execution_count": 34,
   "id": "54de1423",
   "metadata": {},
   "outputs": [
    {
     "data": {
      "text/html": [
       "<style>#sk-container-id-2 {color: black;background-color: white;}#sk-container-id-2 pre{padding: 0;}#sk-container-id-2 div.sk-toggleable {background-color: white;}#sk-container-id-2 label.sk-toggleable__label {cursor: pointer;display: block;width: 100%;margin-bottom: 0;padding: 0.3em;box-sizing: border-box;text-align: center;}#sk-container-id-2 label.sk-toggleable__label-arrow:before {content: \"▸\";float: left;margin-right: 0.25em;color: #696969;}#sk-container-id-2 label.sk-toggleable__label-arrow:hover:before {color: black;}#sk-container-id-2 div.sk-estimator:hover label.sk-toggleable__label-arrow:before {color: black;}#sk-container-id-2 div.sk-toggleable__content {max-height: 0;max-width: 0;overflow: hidden;text-align: left;background-color: #f0f8ff;}#sk-container-id-2 div.sk-toggleable__content pre {margin: 0.2em;color: black;border-radius: 0.25em;background-color: #f0f8ff;}#sk-container-id-2 input.sk-toggleable__control:checked~div.sk-toggleable__content {max-height: 200px;max-width: 100%;overflow: auto;}#sk-container-id-2 input.sk-toggleable__control:checked~label.sk-toggleable__label-arrow:before {content: \"▾\";}#sk-container-id-2 div.sk-estimator input.sk-toggleable__control:checked~label.sk-toggleable__label {background-color: #d4ebff;}#sk-container-id-2 div.sk-label input.sk-toggleable__control:checked~label.sk-toggleable__label {background-color: #d4ebff;}#sk-container-id-2 input.sk-hidden--visually {border: 0;clip: rect(1px 1px 1px 1px);clip: rect(1px, 1px, 1px, 1px);height: 1px;margin: -1px;overflow: hidden;padding: 0;position: absolute;width: 1px;}#sk-container-id-2 div.sk-estimator {font-family: monospace;background-color: #f0f8ff;border: 1px dotted black;border-radius: 0.25em;box-sizing: border-box;margin-bottom: 0.5em;}#sk-container-id-2 div.sk-estimator:hover {background-color: #d4ebff;}#sk-container-id-2 div.sk-parallel-item::after {content: \"\";width: 100%;border-bottom: 1px solid gray;flex-grow: 1;}#sk-container-id-2 div.sk-label:hover label.sk-toggleable__label {background-color: #d4ebff;}#sk-container-id-2 div.sk-serial::before {content: \"\";position: absolute;border-left: 1px solid gray;box-sizing: border-box;top: 0;bottom: 0;left: 50%;z-index: 0;}#sk-container-id-2 div.sk-serial {display: flex;flex-direction: column;align-items: center;background-color: white;padding-right: 0.2em;padding-left: 0.2em;position: relative;}#sk-container-id-2 div.sk-item {position: relative;z-index: 1;}#sk-container-id-2 div.sk-parallel {display: flex;align-items: stretch;justify-content: center;background-color: white;position: relative;}#sk-container-id-2 div.sk-item::before, #sk-container-id-2 div.sk-parallel-item::before {content: \"\";position: absolute;border-left: 1px solid gray;box-sizing: border-box;top: 0;bottom: 0;left: 50%;z-index: -1;}#sk-container-id-2 div.sk-parallel-item {display: flex;flex-direction: column;z-index: 1;position: relative;background-color: white;}#sk-container-id-2 div.sk-parallel-item:first-child::after {align-self: flex-end;width: 50%;}#sk-container-id-2 div.sk-parallel-item:last-child::after {align-self: flex-start;width: 50%;}#sk-container-id-2 div.sk-parallel-item:only-child::after {width: 0;}#sk-container-id-2 div.sk-dashed-wrapped {border: 1px dashed gray;margin: 0 0.4em 0.5em 0.4em;box-sizing: border-box;padding-bottom: 0.4em;background-color: white;}#sk-container-id-2 div.sk-label label {font-family: monospace;font-weight: bold;display: inline-block;line-height: 1.2em;}#sk-container-id-2 div.sk-label-container {text-align: center;}#sk-container-id-2 div.sk-container {/* jupyter's `normalize.less` sets `[hidden] { display: none; }` but bootstrap.min.css set `[hidden] { display: none !important; }` so we also need the `!important` here to be able to override the default hidden behavior on the sphinx rendered scikit-learn.org. See: https://github.com/scikit-learn/scikit-learn/issues/21755 */display: inline-block !important;position: relative;}#sk-container-id-2 div.sk-text-repr-fallback {display: none;}</style><div id=\"sk-container-id-2\" class=\"sk-top-container\"><div class=\"sk-text-repr-fallback\"><pre>GridSearchCV(cv=RepeatedStratifiedKFold(n_repeats=3, n_splits=5, random_state=None),\n",
       "             estimator=MultiLogisticReg(),\n",
       "             param_grid={&#x27;n_steps&#x27;: [1000, 1500], &#x27;reg&#x27;: [0.01, 0.05, 0.1, 0.5],\n",
       "                         &#x27;stepsize&#x27;: [0.01, 0.05, 0.1, 0.5]},\n",
       "             scoring=make_scorer(accuracy_score))</pre><b>In a Jupyter environment, please rerun this cell to show the HTML representation or trust the notebook. <br />On GitHub, the HTML representation is unable to render, please try loading this page with nbviewer.org.</b></div><div class=\"sk-container\" hidden><div class=\"sk-item sk-dashed-wrapped\"><div class=\"sk-label-container\"><div class=\"sk-label sk-toggleable\"><input class=\"sk-toggleable__control sk-hidden--visually\" id=\"sk-estimator-id-4\" type=\"checkbox\" ><label for=\"sk-estimator-id-4\" class=\"sk-toggleable__label sk-toggleable__label-arrow\">GridSearchCV</label><div class=\"sk-toggleable__content\"><pre>GridSearchCV(cv=RepeatedStratifiedKFold(n_repeats=3, n_splits=5, random_state=None),\n",
       "             estimator=MultiLogisticReg(),\n",
       "             param_grid={&#x27;n_steps&#x27;: [1000, 1500], &#x27;reg&#x27;: [0.01, 0.05, 0.1, 0.5],\n",
       "                         &#x27;stepsize&#x27;: [0.01, 0.05, 0.1, 0.5]},\n",
       "             scoring=make_scorer(accuracy_score))</pre></div></div></div><div class=\"sk-parallel\"><div class=\"sk-parallel-item\"><div class=\"sk-item\"><div class=\"sk-label-container\"><div class=\"sk-label sk-toggleable\"><input class=\"sk-toggleable__control sk-hidden--visually\" id=\"sk-estimator-id-5\" type=\"checkbox\" ><label for=\"sk-estimator-id-5\" class=\"sk-toggleable__label sk-toggleable__label-arrow\">estimator: MultiLogisticReg</label><div class=\"sk-toggleable__content\"><pre>MultiLogisticReg()</pre></div></div></div><div class=\"sk-serial\"><div class=\"sk-item\"><div class=\"sk-estimator sk-toggleable\"><input class=\"sk-toggleable__control sk-hidden--visually\" id=\"sk-estimator-id-6\" type=\"checkbox\" ><label for=\"sk-estimator-id-6\" class=\"sk-toggleable__label sk-toggleable__label-arrow\">MultiLogisticReg</label><div class=\"sk-toggleable__content\"><pre>MultiLogisticReg()</pre></div></div></div></div></div></div></div></div></div></div>"
      ],
      "text/plain": [
       "GridSearchCV(cv=RepeatedStratifiedKFold(n_repeats=3, n_splits=5, random_state=None),\n",
       "             estimator=MultiLogisticReg(),\n",
       "             param_grid={'n_steps': [1000, 1500], 'reg': [0.01, 0.05, 0.1, 0.5],\n",
       "                         'stepsize': [0.01, 0.05, 0.1, 0.5]},\n",
       "             scoring=make_scorer(accuracy_score))"
      ]
     },
     "execution_count": 34,
     "metadata": {},
     "output_type": "execute_result"
    }
   ],
   "source": [
    "param_grid = {\n",
    "    'reg': [0.01,0.05,0.1,0.5],\n",
    "    'stepsize': [0.01,0.05,0.1,0.5],\n",
    "    'n_steps': [1000,1500] }\n",
    "\n",
    "scoring = make_scorer(accuracy_score)\n",
    "\n",
    "grid_search2 = GridSearchCV(estimator=MultiLogisticReg() , param_grid=param_grid , cv=kfold2 , scoring=scoring)\n",
    "\n",
    "grid_search2.fit(train_features_transf[sel_columns], train_label)"
   ]
  },
  {
   "cell_type": "code",
   "execution_count": 35,
   "id": "473bad28",
   "metadata": {},
   "outputs": [
    {
     "data": {
      "text/plain": [
       "0.8104259755734285"
      ]
     },
     "execution_count": 35,
     "metadata": {},
     "output_type": "execute_result"
    }
   ],
   "source": [
    "grid_search2.best_score_"
   ]
  },
  {
   "cell_type": "code",
   "execution_count": 36,
   "id": "15c77768",
   "metadata": {},
   "outputs": [
    {
     "data": {
      "text/plain": [
       "{'n_steps': 1000, 'reg': 0.01, 'stepsize': 0.5}"
      ]
     },
     "execution_count": 36,
     "metadata": {},
     "output_type": "execute_result"
    }
   ],
   "source": [
    "grid_search2.best_params_"
   ]
  },
  {
   "cell_type": "code",
   "execution_count": 92,
   "id": "25926f3a",
   "metadata": {},
   "outputs": [
    {
     "data": {
      "text/plain": [
       "['MODELS/hyper_LG.sav']"
      ]
     },
     "execution_count": 92,
     "metadata": {},
     "output_type": "execute_result"
    }
   ],
   "source": [
    "pred = grid_search2.predict(test_features_transf[sel_columns])\n",
    "sub = test.copy()[[\"SNo\"]]\n",
    "sub[\"Label\"] = pred\n",
    "sub.to_csv(\"PREDICTIONS/Submission_LG_hyper.csv\",index=False)\n",
    "filename = \"MODELS/hyper_LG.sav\"\n",
    "joblib.dump(grid_search.best_estimator_, filename)"
   ]
  },
  {
   "cell_type": "markdown",
   "id": "611742d7",
   "metadata": {},
   "source": [
    "## Resources\n",
    "\n",
    "* https://scikit-learn.org/stable/modules/generated/sklearn.feature_selection.RFECV.html\n",
    "* https://machinelearningmastery.com/gradient-boosting-with-scikit-learn-xgboost-lightgbm-and-catboost/"
   ]
  }
 ],
 "metadata": {
  "kernelspec": {
   "display_name": "Python 3 (ipykernel)",
   "language": "python",
   "name": "python3"
  },
  "language_info": {
   "codemirror_mode": {
    "name": "ipython",
    "version": 3
   },
   "file_extension": ".py",
   "mimetype": "text/x-python",
   "name": "python",
   "nbconvert_exporter": "python",
   "pygments_lexer": "ipython3",
   "version": "3.11.3"
  }
 },
 "nbformat": 4,
 "nbformat_minor": 5
}
